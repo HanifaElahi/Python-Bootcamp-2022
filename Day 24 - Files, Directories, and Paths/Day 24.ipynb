{
 "cells": [
  {
   "cell_type": "markdown",
   "id": "4b14a39c",
   "metadata": {},
   "source": [
    "# Open, read and write to files using **with** keyword"
   ]
  },
  {
   "cell_type": "code",
   "execution_count": 2,
   "id": "ab0e6a15",
   "metadata": {},
   "outputs": [],
   "source": [
    "# open() returns a file \n",
    "# object, and is most commonly used with two positional arguments and one keyword argument: \n",
    "# open(filename, mode, encoding=None)"
   ]
  },
  {
   "cell_type": "code",
   "execution_count": 3,
   "id": "a3e2ef94",
   "metadata": {},
   "outputs": [],
   "source": [
    "# open is Pthon in-built method\n",
    "file = open('my_file.txt')"
   ]
  },
  {
   "cell_type": "code",
   "execution_count": 4,
   "id": "819c9116",
   "metadata": {},
   "outputs": [],
   "source": [
    "# Read method reads the content of the file.read()"
   ]
  },
  {
   "cell_type": "code",
   "execution_count": 5,
   "id": "2452279c",
   "metadata": {},
   "outputs": [
    {
     "name": "stdout",
     "output_type": "stream",
     "text": [
      "New text added using write mode.\n"
     ]
    }
   ],
   "source": [
    "content = file.read()\n",
    "print(content)"
   ]
  },
  {
   "cell_type": "code",
   "execution_count": 6,
   "id": "97cae16a",
   "metadata": {},
   "outputs": [],
   "source": [
    "# once python opens up the file it takes up resources and after sometime python decides to close it\n",
    "# in order to free up resources and reduce burden. \n",
    "# Hence, it is better tp close it manually using close() method.\n",
    "file.close()"
   ]
  },
  {
   "cell_type": "markdown",
   "id": "fee4aef4",
   "metadata": {},
   "source": [
    "**By using the below code chunk we are not required to remeber that we have to close the file**"
   ]
  },
  {
   "cell_type": "code",
   "execution_count": 7,
   "id": "080ba9e2",
   "metadata": {},
   "outputs": [],
   "source": [
    "# It is good practice to use the with keyword when dealing with file objects. \n",
    "# The advantage is that the file is properly closed after its suite finishes, \n",
    "# even if an exception is raised at some point. Using with is also much shorter than writing equivalen"
   ]
  },
  {
   "cell_type": "code",
   "execution_count": 8,
   "id": "2222e160",
   "metadata": {},
   "outputs": [
    {
     "name": "stdout",
     "output_type": "stream",
     "text": [
      "New text added using write mode.\n"
     ]
    }
   ],
   "source": [
    "# By default read-only mode\n",
    "with open('my_file.txt') as file:\n",
    "    content = file.read()\n",
    "    print(content)"
   ]
  },
  {
   "cell_type": "code",
   "execution_count": 9,
   "id": "7e2e9dbc",
   "metadata": {},
   "outputs": [],
   "source": [
    "# All of the previous text will be deleted and get replaced with new text\n",
    "with open('my_file.txt', mode = 'w') as file:\n",
    "    file.write('New text added using write mode.')"
   ]
  },
  {
   "cell_type": "code",
   "execution_count": 10,
   "id": "bb292101",
   "metadata": {},
   "outputs": [],
   "source": [
    "# All of the previous text will not be deleted and get appended at the end\n",
    "with open('my_new_file.txt', mode = 'a') as file:\n",
    "    file.write('Hi, My name is Hanifa.\\nI am 23 years old.\\nMy favourite food is bowl of hot noodles.\\nNew text added using append mode.')"
   ]
  },
  {
   "cell_type": "code",
   "execution_count": 11,
   "id": "506c485f",
   "metadata": {},
   "outputs": [],
   "source": [
    "# If file doesn't exist then it will be auto created if we are in write mode\n",
    "with open('new_file.txt', mode = 'w') as file:\n",
    "    file.write(\"New text added.\")"
   ]
  },
  {
   "cell_type": "markdown",
   "id": "4aa6ebc6",
   "metadata": {},
   "source": [
    "# Understand Relative and Absolute File Paths"
   ]
  },
  {
   "cell_type": "markdown",
   "id": "378168fd",
   "metadata": {},
   "source": [
    "Files live inside folders"
   ]
  },
  {
   "cell_type": "markdown",
   "id": "3faeb35f",
   "metadata": {},
   "source": [
    "**Absolute file path starts from the origin/root of the computer storage system**"
   ]
  },
  {
   "cell_type": "markdown",
   "id": "8363c59f",
   "metadata": {},
   "source": [
    "**Working directory is the folder we are working with currently**"
   ]
  },
  {
   "cell_type": "markdown",
   "id": "43c269fe",
   "metadata": {},
   "source": [
    "**If we are in working directory we use Relative file path**"
   ]
  },
  {
   "cell_type": "markdown",
   "id": "4466df97",
   "metadata": {},
   "source": [
    "**./** represents fetching something in the same working folder"
   ]
  },
  {
   "cell_type": "markdown",
   "id": "fc527426",
   "metadata": {},
   "source": [
    "**../** represents going up the hierarchy in the parent folder"
   ]
  },
  {
   "cell_type": "markdown",
   "id": "ea3f484c",
   "metadata": {},
   "source": [
    "# Challenge 1"
   ]
  },
  {
   "cell_type": "code",
   "execution_count": 12,
   "id": "1ac45be2",
   "metadata": {},
   "outputs": [
    {
     "name": "stdout",
     "output_type": "stream",
     "text": [
      "New text added.\n"
     ]
    }
   ],
   "source": [
    "with open(\"/Users/Dell/Desktop/new_file.txt\") as file:\n",
    "    content = file.read()\n",
    "    print(content)"
   ]
  },
  {
   "cell_type": "markdown",
   "id": "b967feaf",
   "metadata": {},
   "source": [
    "# Challenge 2"
   ]
  },
  {
   "cell_type": "code",
   "execution_count": 14,
   "id": "2f09cfc5",
   "metadata": {},
   "outputs": [
    {
     "name": "stdout",
     "output_type": "stream",
     "text": [
      "New text added.\n"
     ]
    }
   ],
   "source": [
    "# Actual Path --> C:\\Users\\Dell\\Desktop\n",
    "# ./ --> Day 24 - Files, Directories, and Paths\n",
    "# ../ --> Python 2022 Bootcamp / Day 24 - Files, Directories, and Paths\n",
    "# ../../ Desktop / Python 2022 Bootcamp / Day 24 - Files, Directories, and Paths\n",
    "with open(\"../../new_file.txt\") as file:\n",
    "    content = file.read()\n",
    "    print(content)"
   ]
  }
 ],
 "metadata": {
  "kernelspec": {
   "display_name": "Python 3 (ipykernel)",
   "language": "python",
   "name": "python3"
  },
  "language_info": {
   "codemirror_mode": {
    "name": "ipython",
    "version": 3
   },
   "file_extension": ".py",
   "mimetype": "text/x-python",
   "name": "python",
   "nbconvert_exporter": "python",
   "pygments_lexer": "ipython3",
   "version": "3.10.0"
  }
 },
 "nbformat": 4,
 "nbformat_minor": 5
}
