{
 "cells": [
  {
   "cell_type": "markdown",
   "id": "05b9d020",
   "metadata": {},
   "source": [
    "# COFFEE MENU"
   ]
  },
  {
   "cell_type": "code",
   "execution_count": 1,
   "id": "73003917",
   "metadata": {},
   "outputs": [],
   "source": [
    "MENU = {\n",
    "    \"espresso\": {\n",
    "        \"ingredients\": {\"water\": 50, \"coffee\": 18},\n",
    "        \"cost\": 1.5\n",
    "    },\n",
    "    \n",
    "    \"latte\": {\n",
    "        \"ingredients\": {\"water\": 200, \"milk\": 150, \"coffee\": 24},\n",
    "        \"cost\": 2.5 \n",
    "    },\n",
    "    \n",
    "    \"cappuccino\": {\n",
    "        \"ingredients\": {\"water\": 250, \"milk\": 100,\"coffee\": 24},\n",
    "        \"cost\": 3.0\n",
    "    }\n",
    "}"
   ]
  },
  {
   "cell_type": "markdown",
   "id": "76ee48d1",
   "metadata": {},
   "source": [
    "# INITIALIZING PROFIT"
   ]
  },
  {
   "cell_type": "code",
   "execution_count": 2,
   "id": "653b5de8",
   "metadata": {},
   "outputs": [],
   "source": [
    "profit = 0"
   ]
  },
  {
   "cell_type": "markdown",
   "id": "6f43a44d",
   "metadata": {},
   "source": [
    "# INITIALIZING RESOURCES"
   ]
  },
  {
   "cell_type": "code",
   "execution_count": 3,
   "id": "536f7d2a",
   "metadata": {},
   "outputs": [],
   "source": [
    "resources = { \"water\": 300, \"milk\": 200, \"coffee\": 100 }"
   ]
  },
  {
   "cell_type": "markdown",
   "id": "11e66553",
   "metadata": {},
   "source": [
    "# Function for Checking if Resources are Sufficient\n",
    "\n",
    "**Returns True when order can be made, False if ingredients are insufficient.**"
   ]
  },
  {
   "cell_type": "code",
   "execution_count": 4,
   "id": "d721b3e3",
   "metadata": {},
   "outputs": [],
   "source": [
    "def is_resource_sufficient(ingredients):\n",
    "    for item in ingredients:\n",
    "        if ingredients[item] > resources[item]:\n",
    "            print(f\"Sorry, there is not enough {item}\")\n",
    "    return True"
   ]
  },
  {
   "cell_type": "markdown",
   "id": "8946d6f1",
   "metadata": {},
   "source": [
    "# Function for Processing Coins\n",
    "\n",
    "**Returns the total calculated from coins inserted.**"
   ]
  },
  {
   "cell_type": "code",
   "execution_count": 5,
   "id": "82e98f3e",
   "metadata": {},
   "outputs": [],
   "source": [
    "def process_coins():\n",
    "    print(\"Please insert coins.\")\n",
    "    total = int(input(\"how many quarters?: \")) * 0.25\n",
    "    total += int(input(\"how many dimes?: \")) * 0.1\n",
    "    total += int(input(\"how many nickles?: \")) * 0.05\n",
    "    total += int(input(\"how many pennies?: \")) * 0.01\n",
    "    return total"
   ]
  },
  {
   "cell_type": "markdown",
   "id": "9a03bfb1",
   "metadata": {},
   "source": [
    "# Function for Checking Is Transaction Successful\n",
    "\n",
    "**Return True when the payment is accepted, or False if money is insufficient.**"
   ]
  },
  {
   "cell_type": "code",
   "execution_count": 6,
   "id": "828baecc",
   "metadata": {},
   "outputs": [],
   "source": [
    "def is_transaction_successful(payment_received, drink_cost):\n",
    "    if payment_received >= drink_cost:\n",
    "        # Calculating Change\n",
    "        change = round(payment_received - drink_cost, 2)\n",
    "        print(f\"Here is ${change} in change.\")\n",
    "        # Adding in Profit\n",
    "        global profit\n",
    "        profit += drink_cost\n",
    "        return True\n",
    "    else:\n",
    "        print(\"Sorry that's not enough money. Money refunded.\")\n",
    "        return False  "
   ]
  },
  {
   "cell_type": "markdown",
   "id": "211082c4",
   "metadata": {},
   "source": [
    "# Function for Making Coffee\n",
    "\n",
    "**Deduct the required ingredients from the resources.**"
   ]
  },
  {
   "cell_type": "code",
   "execution_count": 7,
   "id": "7cd6ecfb",
   "metadata": {},
   "outputs": [],
   "source": [
    "def make_coffee(drink_name, order_ingredients):\n",
    "    for item in order_ingredients:\n",
    "        # Subtracting Order Ingredients from Resources\n",
    "        resources[item] -= order_ingredients[item]\n",
    "    print(f\"Here is your {drink_name} ☕️. Enjoy!\")"
   ]
  },
  {
   "cell_type": "markdown",
   "id": "fa537e37",
   "metadata": {},
   "source": [
    "# Step 1"
   ]
  },
  {
   "cell_type": "code",
   "execution_count": 10,
   "id": "bef55016",
   "metadata": {},
   "outputs": [
    {
     "name": "stdout",
     "output_type": "stream",
     "text": [
      "What would you like? (espresso/latte/cappuccino) : espresso\n",
      "Please insert coins.\n",
      "how many quarters?: 31\n",
      "how many dimes?: 41\n",
      "how many nickles?: 51\n",
      "how many pennies?: 61\n",
      "Here is $13.51 in change.\n",
      "Here is your espresso ☕️. Enjoy!\n",
      "What would you like? (espresso/latte/cappuccino) : report\n",
      "Water: 150 ml\n",
      "Milk: 200 ml\n",
      "Coffee: 46 g\n",
      "Money: $4.5\n",
      "What would you like? (espresso/latte/cappuccino) : off\n"
     ]
    }
   ],
   "source": [
    "machine_state = True\n",
    "\n",
    "while machine_state:\n",
    "    \n",
    "    choice = input(\"What would you like? (espresso/latte/cappuccino) : \")\n",
    "    \n",
    "    if choice == \"off\":\n",
    "        machine_state = False\n",
    "    \n",
    "    elif choice == \"report\":\n",
    "        print(f\"Water: {resources['water']} ml\")\n",
    "        print(f\"Milk: {resources['milk']} ml\")\n",
    "        print(f\"Coffee: {resources['coffee']} g\")\n",
    "        print(f\"Money: ${profit}\")\n",
    "    \n",
    "    else:\n",
    "        # Selected Drink\n",
    "        drink = MENU[choice]\n",
    "        if is_resource_sufficient(drink['ingredients']):\n",
    "            payment = process_coins()\n",
    "            if is_transaction_successful(payment, drink[\"cost\"]):\n",
    "                make_coffee(choice, drink[\"ingredients\"])"
   ]
  }
 ],
 "metadata": {
  "kernelspec": {
   "display_name": "Python 3 (ipykernel)",
   "language": "python",
   "name": "python3"
  },
  "language_info": {
   "codemirror_mode": {
    "name": "ipython",
    "version": 3
   },
   "file_extension": ".py",
   "mimetype": "text/x-python",
   "name": "python",
   "nbconvert_exporter": "python",
   "pygments_lexer": "ipython3",
   "version": "3.10.0"
  }
 },
 "nbformat": 4,
 "nbformat_minor": 5
}
