{
 "cells": [
  {
   "cell_type": "code",
   "execution_count": null,
   "id": "d2373ca7",
   "metadata": {},
   "outputs": [],
   "source": [
    "import turtle\n",
    "# keyword modulename\n",
    "tim = turtle.Turtle()"
   ]
  },
  {
   "cell_type": "code",
   "execution_count": null,
   "id": "9f443986",
   "metadata": {},
   "outputs": [],
   "source": [
    "from turtle import Turtle\n",
    "#keyword modulename keyword thinginmodule\n",
    "tim = Turtle()"
   ]
  },
  {
   "cell_type": "code",
   "execution_count": null,
   "id": "ef790ea8",
   "metadata": {},
   "outputs": [],
   "source": [
    "from turtle import *\n",
    "# keyword modulename keyword everything\n",
    "tim = Turtle()"
   ]
  },
  {
   "cell_type": "code",
   "execution_count": null,
   "id": "29b02796",
   "metadata": {},
   "outputs": [],
   "source": [
    "import turtle as t\n",
    "# keyword modulename keyword alliasname\n",
    "tim = t.Turtle()"
   ]
  },
  {
   "cell_type": "markdown",
   "id": "fbba2c7e",
   "metadata": {},
   "source": [
    "### Tuple"
   ]
  },
  {
   "cell_type": "code",
   "execution_count": 1,
   "id": "53ee7503",
   "metadata": {},
   "outputs": [],
   "source": [
    "my_tuple = (3,1,8)"
   ]
  },
  {
   "cell_type": "code",
   "execution_count": 2,
   "id": "2fb0cda3",
   "metadata": {},
   "outputs": [
    {
     "data": {
      "text/plain": [
       "3"
      ]
     },
     "execution_count": 2,
     "metadata": {},
     "output_type": "execute_result"
    }
   ],
   "source": [
    "my_tuple[0]"
   ]
  }
 ],
 "metadata": {
  "kernelspec": {
   "display_name": "Python 3 (ipykernel)",
   "language": "python",
   "name": "python3"
  },
  "language_info": {
   "codemirror_mode": {
    "name": "ipython",
    "version": 3
   },
   "file_extension": ".py",
   "mimetype": "text/x-python",
   "name": "python",
   "nbconvert_exporter": "python",
   "pygments_lexer": "ipython3",
   "version": "3.10.0"
  }
 },
 "nbformat": 4,
 "nbformat_minor": 5
}
