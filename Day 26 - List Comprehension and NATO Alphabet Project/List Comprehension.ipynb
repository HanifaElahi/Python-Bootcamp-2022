{
 "cells": [
  {
   "cell_type": "markdown",
   "id": "cc981b16",
   "metadata": {},
   "source": [
    "List is a built-in data structure in Python and a collection of data points in square brackets. Lists can be used to store any data type or a mixture of different data types."
   ]
  },
  {
   "cell_type": "markdown",
   "id": "6fa72235",
   "metadata": {},
   "source": [
    "List comprehension is basically creating lists based on existing iterables. It can also be described as representing for and if loops with a simpler and more appealing syntax. List comprehensions are relatively faster than for loops."
   ]
  },
  {
   "cell_type": "code",
   "execution_count": 1,
   "id": "40aacf0c",
   "metadata": {},
   "outputs": [],
   "source": [
    "import numpy as np"
   ]
  },
  {
   "cell_type": "code",
   "execution_count": 2,
   "id": "deece897",
   "metadata": {},
   "outputs": [],
   "source": [
    "numbers = [10, 12, 13, 14, 5, 6 , 7, 8, 99, 0, 34, 65, 78, 4, 6, 7, 3, 2]"
   ]
  },
  {
   "cell_type": "markdown",
   "id": "101783d3",
   "metadata": {},
   "source": [
    "# Example 1"
   ]
  },
  {
   "cell_type": "code",
   "execution_count": 3,
   "id": "0b2a1d39",
   "metadata": {},
   "outputs": [
    {
     "name": "stdout",
     "output_type": "stream",
     "text": [
      "[12, 13, 14, 99, 34, 65, 78]\n"
     ]
    }
   ],
   "source": [
    "b = []\n",
    "for x in numbers:\n",
    "    if x > 10:\n",
    "        b.append(x)\n",
    "print(b)"
   ]
  },
  {
   "cell_type": "code",
   "execution_count": 4,
   "id": "e39cfe8d",
   "metadata": {},
   "outputs": [
    {
     "data": {
      "text/plain": [
       "[12, 13, 14, 99, 34, 65, 78]"
      ]
     },
     "execution_count": 4,
     "metadata": {},
     "output_type": "execute_result"
    }
   ],
   "source": [
    "[x for x in numbers if x > 10]"
   ]
  },
  {
   "cell_type": "markdown",
   "id": "656988c6",
   "metadata": {},
   "source": [
    "# Example 2\n",
    "multiply the items that fit the condition by 2"
   ]
  },
  {
   "cell_type": "code",
   "execution_count": 5,
   "id": "6051fea1",
   "metadata": {},
   "outputs": [
    {
     "data": {
      "text/plain": [
       "[24, 26, 28, 198, 68, 130, 156]"
      ]
     },
     "execution_count": 5,
     "metadata": {},
     "output_type": "execute_result"
    }
   ],
   "source": [
    "[x*2 for x in numbers if x > 10]"
   ]
  },
  {
   "cell_type": "markdown",
   "id": "c91564ee",
   "metadata": {},
   "source": [
    "# Example 3"
   ]
  },
  {
   "cell_type": "markdown",
   "id": "98f81c29",
   "metadata": {},
   "source": [
    "<img src = \"https://cdn.programiz.com/sites/tutorial2program/files/lc.jpg\">"
   ]
  },
  {
   "cell_type": "markdown",
   "id": "3d2a8302",
   "metadata": {},
   "source": [
    "The condition is that string starts with the letter “c”. "
   ]
  },
  {
   "cell_type": "code",
   "execution_count": 6,
   "id": "854922c9",
   "metadata": {},
   "outputs": [],
   "source": [
    "names = ['Ch','Dh','Eh','cb','Tb','Td']"
   ]
  },
  {
   "cell_type": "code",
   "execution_count": 7,
   "id": "b4985593",
   "metadata": {},
   "outputs": [
    {
     "data": {
      "text/plain": [
       "['Ch', 'cb']"
      ]
     },
     "execution_count": 7,
     "metadata": {},
     "output_type": "execute_result"
    }
   ],
   "source": [
    "[name for name in names if name.lower()[0] == \"c\"]"
   ]
  },
  {
   "cell_type": "markdown",
   "id": "49ee2279",
   "metadata": {},
   "source": [
    "# Example 4\n",
    "\n",
    "Iterate over the rows in matrix A and take the maximum number."
   ]
  },
  {
   "cell_type": "code",
   "execution_count": 8,
   "id": "9168c52e",
   "metadata": {},
   "outputs": [
    {
     "data": {
      "text/plain": [
       "array([[7, 9, 4, 1],\n",
       "       [8, 6, 3, 6],\n",
       "       [0, 5, 2, 7],\n",
       "       [1, 5, 3, 8]])"
      ]
     },
     "execution_count": 8,
     "metadata": {},
     "output_type": "execute_result"
    }
   ],
   "source": [
    "A = np.random.randint(10, size=(4,4))\n",
    "A"
   ]
  },
  {
   "cell_type": "code",
   "execution_count": 11,
   "id": "63c0578b",
   "metadata": {},
   "outputs": [
    {
     "data": {
      "text/plain": [
       "[9, 8, 7, 8]"
      ]
     },
     "execution_count": 11,
     "metadata": {},
     "output_type": "execute_result"
    }
   ],
   "source": [
    "[max(x) for x in A]"
   ]
  },
  {
   "cell_type": "markdown",
   "id": "14ca5450",
   "metadata": {},
   "source": [
    "# Example 5"
   ]
  },
  {
   "cell_type": "code",
   "execution_count": 12,
   "id": "277bd217",
   "metadata": {},
   "outputs": [],
   "source": [
    "vals = [[1,2,3],[4,5,2],[3,2,6]]"
   ]
  },
  {
   "cell_type": "code",
   "execution_count": 13,
   "id": "cfa88e97",
   "metadata": {},
   "outputs": [
    {
     "data": {
      "text/plain": [
       "[3, 5, 6]"
      ]
     },
     "execution_count": 13,
     "metadata": {},
     "output_type": "execute_result"
    }
   ],
   "source": [
    "[max(x) for x in vals]"
   ]
  },
  {
   "cell_type": "markdown",
   "id": "e55e01da",
   "metadata": {},
   "source": [
    "# Example 6\n",
    "\n",
    "strings that end with the letter “b” and have a length greater than 2."
   ]
  },
  {
   "cell_type": "code",
   "execution_count": 14,
   "id": "093f6896",
   "metadata": {},
   "outputs": [],
   "source": [
    "names = ['Ch','Dh','Eh','cb','Tb','Td','Chb','Tdb']"
   ]
  },
  {
   "cell_type": "code",
   "execution_count": 15,
   "id": "8a611eb9",
   "metadata": {},
   "outputs": [
    {
     "data": {
      "text/plain": [
       "['Chb', 'Tdb']"
      ]
     },
     "execution_count": 15,
     "metadata": {},
     "output_type": "execute_result"
    }
   ],
   "source": [
    "[name for name in names if name.lower()[-1] == \"b\" and len(name) > 2]"
   ]
  },
  {
   "cell_type": "markdown",
   "id": "947fec5b",
   "metadata": {},
   "source": [
    "# Example 7"
   ]
  },
  {
   "cell_type": "code",
   "execution_count": 16,
   "id": "acc529d8",
   "metadata": {},
   "outputs": [],
   "source": [
    "names = ['chb', 'ydb', 'thd', 'hgh']"
   ]
  },
  {
   "cell_type": "code",
   "execution_count": 17,
   "id": "a78128f7",
   "metadata": {},
   "outputs": [
    {
     "data": {
      "text/plain": [
       "['chb', 'ydb']"
      ]
     },
     "execution_count": 17,
     "metadata": {},
     "output_type": "execute_result"
    }
   ],
   "source": [
    "[name for name in names if name.lower()[0] == \"c\" or name.lower()[-1] == \"b\"]"
   ]
  },
  {
   "cell_type": "markdown",
   "id": "2f2bec34",
   "metadata": {},
   "source": [
    "# Example 8\n",
    "\n",
    "<img src = \"https://miro.medium.com/max/720/1*rN2aisbM6eEXVQ96GjojGA.png\">"
   ]
  },
  {
   "cell_type": "code",
   "execution_count": 18,
   "id": "2c7e0321",
   "metadata": {},
   "outputs": [],
   "source": [
    "vals = [[1,2,3],[4,5,2],[3,2,6]]"
   ]
  },
  {
   "cell_type": "code",
   "execution_count": 19,
   "id": "b425f5a1",
   "metadata": {},
   "outputs": [
    {
     "data": {
      "text/plain": [
       "[1, 2, 3, 4, 5, 2, 3, 2, 6]"
      ]
     },
     "execution_count": 19,
     "metadata": {},
     "output_type": "execute_result"
    }
   ],
   "source": [
    "[y for x in vals for y in x]"
   ]
  },
  {
   "cell_type": "markdown",
   "id": "17956634",
   "metadata": {},
   "source": [
    "# Example 9\n",
    "put the condition on the nested lists, not on individual elements"
   ]
  },
  {
   "cell_type": "code",
   "execution_count": 20,
   "id": "50e43aec",
   "metadata": {},
   "outputs": [],
   "source": [
    "text = [['bar','foo','fooba'],['Rome','Madrid','Houston'], ['aa','bb','cc','dd']]"
   ]
  },
  {
   "cell_type": "code",
   "execution_count": 21,
   "id": "8f668b39",
   "metadata": {},
   "outputs": [
    {
     "data": {
      "text/plain": [
       "['aa', 'bb', 'cc', 'dd']"
      ]
     },
     "execution_count": 21,
     "metadata": {},
     "output_type": "execute_result"
    }
   ],
   "source": [
    "[y for x in text if len(x)>3 for y in x]"
   ]
  },
  {
   "cell_type": "markdown",
   "id": "6aeca02c",
   "metadata": {},
   "source": [
    "# Example 10"
   ]
  },
  {
   "cell_type": "code",
   "execution_count": 22,
   "id": "bd118e8a",
   "metadata": {},
   "outputs": [
    {
     "data": {
      "text/plain": [
       "['fooba', 'Madrid', 'Houston']"
      ]
     },
     "execution_count": 22,
     "metadata": {},
     "output_type": "execute_result"
    }
   ],
   "source": [
    "[y for x in text for y in x if len(y)>4]"
   ]
  },
  {
   "cell_type": "markdown",
   "id": "25209f19",
   "metadata": {},
   "source": [
    "# Example 11\n",
    "\n",
    "get the items that start with the letter “f” in nested lists with a length of 3 and then convert all the letters of selected items to uppercase."
   ]
  },
  {
   "cell_type": "code",
   "execution_count": 37,
   "id": "2ffc7888",
   "metadata": {},
   "outputs": [
    {
     "data": {
      "text/plain": [
       "['FOO', 'FOOBA']"
      ]
     },
     "execution_count": 37,
     "metadata": {},
     "output_type": "execute_result"
    }
   ],
   "source": [
    "[y.upper() for x in text if len(x) == 3 for y in x if y.lower()[0] == \"f\"]"
   ]
  },
  {
   "cell_type": "markdown",
   "id": "26ef17c8",
   "metadata": {},
   "source": [
    "# Example 12"
   ]
  },
  {
   "cell_type": "code",
   "execution_count": 38,
   "id": "33a09956",
   "metadata": {},
   "outputs": [
    {
     "data": {
      "text/plain": [
       "['even', 'odd', 'even', 'odd', 'even']"
      ]
     },
     "execution_count": 38,
     "metadata": {},
     "output_type": "execute_result"
    }
   ],
   "source": [
    "[\"even\" if y%2==0 else \"odd\" for y in range(5)]"
   ]
  }
 ],
 "metadata": {
  "kernelspec": {
   "display_name": "Python 3 (ipykernel)",
   "language": "python",
   "name": "python3"
  },
  "language_info": {
   "codemirror_mode": {
    "name": "ipython",
    "version": 3
   },
   "file_extension": ".py",
   "mimetype": "text/x-python",
   "name": "python",
   "nbconvert_exporter": "python",
   "pygments_lexer": "ipython3",
   "version": "3.10.0"
  }
 },
 "nbformat": 4,
 "nbformat_minor": 5
}
