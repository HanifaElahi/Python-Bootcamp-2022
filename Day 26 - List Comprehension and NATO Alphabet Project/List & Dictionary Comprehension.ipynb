{
 "cells": [
  {
   "cell_type": "markdown",
   "id": "38cbea53",
   "metadata": {},
   "source": [
    "# Challenge 1"
   ]
  },
  {
   "cell_type": "code",
   "execution_count": 1,
   "id": "ee648583",
   "metadata": {},
   "outputs": [],
   "source": [
    "numbers = [1,2,3]"
   ]
  },
  {
   "cell_type": "code",
   "execution_count": 2,
   "id": "6f011183",
   "metadata": {},
   "outputs": [],
   "source": [
    "new_numbers = [x+1 for x in numbers]"
   ]
  },
  {
   "cell_type": "code",
   "execution_count": 3,
   "id": "3abaa3f9",
   "metadata": {},
   "outputs": [
    {
     "data": {
      "text/plain": [
       "[2, 3, 4]"
      ]
     },
     "execution_count": 3,
     "metadata": {},
     "output_type": "execute_result"
    }
   ],
   "source": [
    "new_numbers"
   ]
  },
  {
   "cell_type": "markdown",
   "id": "d885aed9",
   "metadata": {},
   "source": [
    "# Challenge 2"
   ]
  },
  {
   "cell_type": "code",
   "execution_count": 4,
   "id": "80da5d5f",
   "metadata": {},
   "outputs": [],
   "source": [
    "doubled_numbers = [x*2 for x in range(1,5)]"
   ]
  },
  {
   "cell_type": "code",
   "execution_count": 5,
   "id": "d3c9a968",
   "metadata": {},
   "outputs": [
    {
     "data": {
      "text/plain": [
       "[2, 4, 6, 8]"
      ]
     },
     "execution_count": 5,
     "metadata": {},
     "output_type": "execute_result"
    }
   ],
   "source": [
    "doubled_numbers"
   ]
  },
  {
   "cell_type": "markdown",
   "id": "e39daec6",
   "metadata": {},
   "source": [
    "# Conditional List Comprehension"
   ]
  },
  {
   "cell_type": "code",
   "execution_count": 6,
   "id": "01726124",
   "metadata": {},
   "outputs": [],
   "source": [
    "names = ['Alex', 'Beth', 'Caroline', 'Dave', 'Elanor', 'Freddie']"
   ]
  },
  {
   "cell_type": "code",
   "execution_count": 7,
   "id": "e0d074f1",
   "metadata": {},
   "outputs": [],
   "source": [
    "short_names = [name for name in names if len(name) < 5]"
   ]
  },
  {
   "cell_type": "code",
   "execution_count": 8,
   "id": "8dae7a90",
   "metadata": {},
   "outputs": [
    {
     "data": {
      "text/plain": [
       "['Alex', 'Beth', 'Dave']"
      ]
     },
     "execution_count": 8,
     "metadata": {},
     "output_type": "execute_result"
    }
   ],
   "source": [
    "short_names"
   ]
  },
  {
   "cell_type": "markdown",
   "id": "3723cdf2",
   "metadata": {},
   "source": [
    "# Challenge 3"
   ]
  },
  {
   "cell_type": "code",
   "execution_count": 9,
   "id": "e92060fa",
   "metadata": {},
   "outputs": [],
   "source": [
    "long_names = [name.upper() for name in names if len(name) > 5]"
   ]
  },
  {
   "cell_type": "code",
   "execution_count": 10,
   "id": "0af42df1",
   "metadata": {},
   "outputs": [
    {
     "data": {
      "text/plain": [
       "['CAROLINE', 'ELANOR', 'FREDDIE']"
      ]
     },
     "execution_count": 10,
     "metadata": {},
     "output_type": "execute_result"
    }
   ],
   "source": [
    "long_names"
   ]
  },
  {
   "cell_type": "code",
   "execution_count": null,
   "id": "4af43200",
   "metadata": {},
   "outputs": [],
   "source": []
  },
  {
   "cell_type": "markdown",
   "id": "f4619dbc",
   "metadata": {},
   "source": [
    "# Dictionary Comprehension"
   ]
  },
  {
   "cell_type": "code",
   "execution_count": 11,
   "id": "4a99b6f7",
   "metadata": {},
   "outputs": [
    {
     "data": {
      "text/plain": [
       "['Alex', 'Beth', 'Caroline', 'Dave', 'Elanor', 'Freddie']"
      ]
     },
     "execution_count": 11,
     "metadata": {},
     "output_type": "execute_result"
    }
   ],
   "source": [
    "names"
   ]
  },
  {
   "cell_type": "code",
   "execution_count": 12,
   "id": "9ee586b3",
   "metadata": {},
   "outputs": [],
   "source": [
    "import random"
   ]
  },
  {
   "cell_type": "code",
   "execution_count": 13,
   "id": "0099eb1a",
   "metadata": {},
   "outputs": [],
   "source": [
    "students_scores = {student:random.randint(1,100) for student in names}"
   ]
  },
  {
   "cell_type": "code",
   "execution_count": 14,
   "id": "b543056a",
   "metadata": {},
   "outputs": [
    {
     "data": {
      "text/plain": [
       "{'Alex': 81,\n",
       " 'Beth': 82,\n",
       " 'Caroline': 93,\n",
       " 'Dave': 85,\n",
       " 'Elanor': 59,\n",
       " 'Freddie': 93}"
      ]
     },
     "execution_count": 14,
     "metadata": {},
     "output_type": "execute_result"
    }
   ],
   "source": [
    "students_scores"
   ]
  },
  {
   "cell_type": "code",
   "execution_count": 15,
   "id": "8d22b62c",
   "metadata": {},
   "outputs": [
    {
     "data": {
      "text/plain": [
       "dict_items([('Alex', 81), ('Beth', 82), ('Caroline', 93), ('Dave', 85), ('Elanor', 59), ('Freddie', 93)])"
      ]
     },
     "execution_count": 15,
     "metadata": {},
     "output_type": "execute_result"
    }
   ],
   "source": [
    "students_scores.items()"
   ]
  },
  {
   "cell_type": "code",
   "execution_count": 16,
   "id": "562cb6de",
   "metadata": {},
   "outputs": [],
   "source": [
    "passed_students = {student:score for (student, score) in students_scores.items() if score >= 60}"
   ]
  },
  {
   "cell_type": "code",
   "execution_count": 17,
   "id": "caaaeb1c",
   "metadata": {},
   "outputs": [
    {
     "data": {
      "text/plain": [
       "{'Alex': 81, 'Beth': 82, 'Caroline': 93, 'Dave': 85, 'Freddie': 93}"
      ]
     },
     "execution_count": 17,
     "metadata": {},
     "output_type": "execute_result"
    }
   ],
   "source": [
    "passed_students"
   ]
  },
  {
   "cell_type": "code",
   "execution_count": null,
   "id": "1806c27e",
   "metadata": {},
   "outputs": [],
   "source": []
  },
  {
   "cell_type": "markdown",
   "id": "64fee438",
   "metadata": {},
   "source": [
    "# Iterating over Pandas DataFrame"
   ]
  },
  {
   "cell_type": "code",
   "execution_count": 18,
   "id": "b08a449b",
   "metadata": {},
   "outputs": [],
   "source": [
    "student_dict = {\n",
    "    'student' : ['Hanifa','Ayesha','Usman','Umar'],\n",
    "    'scores' : [90, 80, 70, 60]\n",
    "}"
   ]
  },
  {
   "cell_type": "markdown",
   "id": "b21f756c",
   "metadata": {},
   "source": [
    "Looping through Dictionary"
   ]
  },
  {
   "cell_type": "code",
   "execution_count": 19,
   "id": "0782ff4d",
   "metadata": {},
   "outputs": [
    {
     "name": "stdout",
     "output_type": "stream",
     "text": [
      "student ['Hanifa', 'Ayesha', 'Usman', 'Umar']\n",
      "scores [90, 80, 70, 60]\n"
     ]
    }
   ],
   "source": [
    "for (key, value) in student_dict.items():\n",
    "    print(key, value)"
   ]
  },
  {
   "cell_type": "code",
   "execution_count": 20,
   "id": "8af96d10",
   "metadata": {},
   "outputs": [],
   "source": [
    "import pandas"
   ]
  },
  {
   "cell_type": "code",
   "execution_count": 21,
   "id": "e282fd17",
   "metadata": {},
   "outputs": [
    {
     "data": {
      "text/html": [
       "<div><div id=a82ec32c-33ff-4f9b-b1de-eefc5588d337 style=\"display:none; background-color:#9D6CFF; color:white; width:200px; height:30px; padding-left:5px; border-radius:4px; flex-direction:row; justify-content:space-around; align-items:center;\" onmouseover=\"this.style.backgroundColor='#BA9BF8'\" onmouseout=\"this.style.backgroundColor='#9D6CFF'\" onclick=\"window.commands?.execute('create-mitosheet-from-dataframe-output');\">See Full Dataframe in Mito</div> <script> if (window.commands?.hasCommand('create-mitosheet-from-dataframe-output')) document.getElementById('a82ec32c-33ff-4f9b-b1de-eefc5588d337').style.display = 'flex' </script> <table border=\"1\" class=\"dataframe\">\n",
       "  <thead>\n",
       "    <tr style=\"text-align: right;\">\n",
       "      <th></th>\n",
       "      <th>student</th>\n",
       "      <th>scores</th>\n",
       "    </tr>\n",
       "  </thead>\n",
       "  <tbody>\n",
       "    <tr>\n",
       "      <th>0</th>\n",
       "      <td>Hanifa</td>\n",
       "      <td>90</td>\n",
       "    </tr>\n",
       "    <tr>\n",
       "      <th>1</th>\n",
       "      <td>Ayesha</td>\n",
       "      <td>80</td>\n",
       "    </tr>\n",
       "    <tr>\n",
       "      <th>2</th>\n",
       "      <td>Usman</td>\n",
       "      <td>70</td>\n",
       "    </tr>\n",
       "    <tr>\n",
       "      <th>3</th>\n",
       "      <td>Umar</td>\n",
       "      <td>60</td>\n",
       "    </tr>\n",
       "  </tbody>\n",
       "</table></div>"
      ],
      "text/plain": [
       "  student  scores\n",
       "0  Hanifa      90\n",
       "1  Ayesha      80\n",
       "2   Usman      70\n",
       "3    Umar      60"
      ]
     },
     "execution_count": 21,
     "metadata": {},
     "output_type": "execute_result"
    }
   ],
   "source": [
    "students_df = pandas.DataFrame(student_dict)\n",
    "students_df"
   ]
  },
  {
   "cell_type": "markdown",
   "id": "0f1fc3f9",
   "metadata": {},
   "source": [
    "**Loop through a DataFrame**"
   ]
  },
  {
   "cell_type": "code",
   "execution_count": 22,
   "id": "cbe2b7c7",
   "metadata": {},
   "outputs": [
    {
     "name": "stdout",
     "output_type": "stream",
     "text": [
      "0    Hanifa\n",
      "1    Ayesha\n",
      "2     Usman\n",
      "3      Umar\n",
      "Name: student, dtype: object\n",
      "0    90\n",
      "1    80\n",
      "2    70\n",
      "3    60\n",
      "Name: scores, dtype: int64\n"
     ]
    }
   ],
   "source": [
    "for (key, value) in students_df.items():\n",
    "    print(value)"
   ]
  },
  {
   "cell_type": "markdown",
   "id": "b46d6f8c",
   "metadata": {},
   "source": [
    "**Loop through rows of DataFrame**"
   ]
  },
  {
   "cell_type": "code",
   "execution_count": 26,
   "id": "cd7c248f",
   "metadata": {},
   "outputs": [
    {
     "name": "stdout",
     "output_type": "stream",
     "text": [
      "student    Hanifa\n",
      "scores         90\n",
      "Name: 0, dtype: object\n",
      "student    Ayesha\n",
      "scores         80\n",
      "Name: 1, dtype: object\n",
      "student    Usman\n",
      "scores        70\n",
      "Name: 2, dtype: object\n",
      "student    Umar\n",
      "scores       60\n",
      "Name: 3, dtype: object\n"
     ]
    }
   ],
   "source": [
    "for (index, row) in students_df.iterrows():\n",
    "    print(row)"
   ]
  },
  {
   "cell_type": "code",
   "execution_count": 23,
   "id": "e4bd2b90",
   "metadata": {},
   "outputs": [
    {
     "name": "stdout",
     "output_type": "stream",
     "text": [
      "90\n"
     ]
    }
   ],
   "source": [
    "for (index, row) in students_df.iterrows():\n",
    "    if row.student == 'Hanifa':\n",
    "        print(row.scores)"
   ]
  }
 ],
 "metadata": {
  "kernelspec": {
   "display_name": "Python 3 (ipykernel)",
   "language": "python",
   "name": "python3"
  },
  "language_info": {
   "codemirror_mode": {
    "name": "ipython",
    "version": 3
   },
   "file_extension": ".py",
   "mimetype": "text/x-python",
   "name": "python",
   "nbconvert_exporter": "python",
   "pygments_lexer": "ipython3",
   "version": "3.10.0"
  }
 },
 "nbformat": 4,
 "nbformat_minor": 5
}
