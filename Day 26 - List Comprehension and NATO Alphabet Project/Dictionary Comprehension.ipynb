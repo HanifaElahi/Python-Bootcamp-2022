{
 "cells": [
  {
   "cell_type": "markdown",
   "id": "b770783e",
   "metadata": {},
   "source": [
    "<img src=\"https://miro.medium.com/max/640/1*m4oZHplTTZxVr_VvAkwjHQ.png\">"
   ]
  },
  {
   "cell_type": "markdown",
   "id": "70cf0498",
   "metadata": {},
   "source": [
    "# Example 1"
   ]
  },
  {
   "cell_type": "code",
   "execution_count": 1,
   "id": "d651c3b9",
   "metadata": {},
   "outputs": [],
   "source": [
    "words = ['data', 'science', 'machine', 'learning']"
   ]
  },
  {
   "cell_type": "code",
   "execution_count": 2,
   "id": "fe8a9e99",
   "metadata": {},
   "outputs": [
    {
     "data": {
      "text/plain": [
       "{'data': 4, 'science': 7, 'machine': 7, 'learning': 8}"
      ]
     },
     "execution_count": 2,
     "metadata": {},
     "output_type": "execute_result"
    }
   ],
   "source": [
    "{value:len(value) for value in words}"
   ]
  },
  {
   "cell_type": "markdown",
   "id": "8780455c",
   "metadata": {},
   "source": [
    "# Example 2"
   ]
  },
  {
   "cell_type": "code",
   "execution_count": 3,
   "id": "241378f1",
   "metadata": {},
   "outputs": [],
   "source": [
    "words = ['data', 'science', 'machine', 'learning']"
   ]
  },
  {
   "cell_type": "code",
   "execution_count": 4,
   "id": "10056076",
   "metadata": {},
   "outputs": [
    {
     "data": {
      "text/plain": [
       "[7, 7, 8]"
      ]
     },
     "execution_count": 4,
     "metadata": {},
     "output_type": "execute_result"
    }
   ],
   "source": [
    "[len(word) for word in words if len(word) > 5]"
   ]
  },
  {
   "cell_type": "code",
   "execution_count": 5,
   "id": "f400e806",
   "metadata": {},
   "outputs": [
    {
     "data": {
      "text/plain": [
       "{'science': 7, 'machine': 7, 'learning': 8}"
      ]
     },
     "execution_count": 5,
     "metadata": {},
     "output_type": "execute_result"
    }
   ],
   "source": [
    "{value:len(value) for value in words if len(value) > 5}"
   ]
  },
  {
   "cell_type": "markdown",
   "id": "2bd14ed1",
   "metadata": {},
   "source": [
    "# Example 3"
   ]
  },
  {
   "cell_type": "code",
   "execution_count": 6,
   "id": "48acf38a",
   "metadata": {},
   "outputs": [
    {
     "data": {
      "text/plain": [
       "{'data': 'short', 'science': 7, 'machine': 7, 'learning': 8}"
      ]
     },
     "execution_count": 6,
     "metadata": {},
     "output_type": "execute_result"
    }
   ],
   "source": [
    "{value:len(value)  if len(value) > 5 else \"short\" for value in words}"
   ]
  },
  {
   "cell_type": "markdown",
   "id": "ab2e81b4",
   "metadata": {},
   "source": [
    "# Example 4"
   ]
  },
  {
   "cell_type": "markdown",
   "id": "45fa5425",
   "metadata": {},
   "source": [
    "We can iterate over two iterables in a dictionary comprehension."
   ]
  },
  {
   "cell_type": "code",
   "execution_count": 7,
   "id": "debbd36d",
   "metadata": {},
   "outputs": [],
   "source": [
    "words = ['data', 'science', 'machine', 'learning']\n",
    "values = [5, 3, 1, 8]"
   ]
  },
  {
   "cell_type": "code",
   "execution_count": 8,
   "id": "4ac30e1f",
   "metadata": {},
   "outputs": [
    {
     "data": {
      "text/plain": [
       "{'data': 5, 'science': 3, 'machine': 1, 'learning': 8}"
      ]
     },
     "execution_count": 8,
     "metadata": {},
     "output_type": "execute_result"
    }
   ],
   "source": [
    "{word:value for (word,value) in zip(words, values)}"
   ]
  },
  {
   "cell_type": "markdown",
   "id": "fda85fe3",
   "metadata": {},
   "source": [
    "# Example 5"
   ]
  },
  {
   "cell_type": "code",
   "execution_count": 9,
   "id": "e486c8f1",
   "metadata": {},
   "outputs": [
    {
     "data": {
      "text/plain": [
       "{'data': 5, 'learning': 8}"
      ]
     },
     "execution_count": 9,
     "metadata": {},
     "output_type": "execute_result"
    }
   ],
   "source": [
    "{word:value for (word,value) in zip(words, values) if value > 4}"
   ]
  },
  {
   "cell_type": "markdown",
   "id": "7bba933f",
   "metadata": {},
   "source": [
    "# Example 6"
   ]
  },
  {
   "cell_type": "code",
   "execution_count": 10,
   "id": "04569e93",
   "metadata": {},
   "outputs": [
    {
     "data": {
      "text/plain": [
       "{'DATA': 5, 'SCIENCE': 3, 'MACHINE': 1, 'LEARNING': 8}"
      ]
     },
     "execution_count": 10,
     "metadata": {},
     "output_type": "execute_result"
    }
   ],
   "source": [
    "{key.upper():value for (key, value) in zip(words,values)}"
   ]
  },
  {
   "cell_type": "markdown",
   "id": "9abcc0c5",
   "metadata": {},
   "source": [
    "# Example 7"
   ]
  },
  {
   "cell_type": "code",
   "execution_count": 11,
   "id": "599c865a",
   "metadata": {},
   "outputs": [
    {
     "data": {
      "text/plain": [
       "dict_items([('DATA', 5), ('SCIENCE', 3), ('MACHINE', 1), ('LEARNING', 8)])"
      ]
     },
     "execution_count": 11,
     "metadata": {},
     "output_type": "execute_result"
    }
   ],
   "source": [
    "{key.upper():value for (key, value) in zip(words,values)}.items()"
   ]
  },
  {
   "cell_type": "code",
   "execution_count": 12,
   "id": "5479ff13",
   "metadata": {},
   "outputs": [
    {
     "data": {
      "text/plain": [
       "{'DATA': 1, 'SCIENCE': 1, 'MACHINE': 1, 'LEARNING': 0}"
      ]
     },
     "execution_count": 12,
     "metadata": {},
     "output_type": "execute_result"
    }
   ],
   "source": [
    "{key.upper():value % 2 for (key, value) in zip(words,values)}"
   ]
  },
  {
   "cell_type": "markdown",
   "id": "2a6e115d",
   "metadata": {},
   "source": [
    "# Example 8"
   ]
  },
  {
   "cell_type": "code",
   "execution_count": 13,
   "id": "fecfe19f",
   "metadata": {},
   "outputs": [],
   "source": [
    "names = ['John', 'Jane', 'Adam', 'Eva', 'Ashley']"
   ]
  },
  {
   "cell_type": "code",
   "execution_count": 14,
   "id": "88440f0f",
   "metadata": {},
   "outputs": [
    {
     "data": {
      "text/plain": [
       "<enumerate at 0x261c471ad40>"
      ]
     },
     "execution_count": 14,
     "metadata": {},
     "output_type": "execute_result"
    }
   ],
   "source": [
    "enumerate(names)"
   ]
  },
  {
   "cell_type": "code",
   "execution_count": 15,
   "id": "7af85235",
   "metadata": {},
   "outputs": [
    {
     "data": {
      "text/plain": [
       "[(0, 'John'), (1, 'Jane'), (2, 'Adam'), (3, 'Eva'), (4, 'Ashley')]"
      ]
     },
     "execution_count": 15,
     "metadata": {},
     "output_type": "execute_result"
    }
   ],
   "source": [
    "list(enumerate(names))"
   ]
  },
  {
   "cell_type": "markdown",
   "id": "b61e1c7e",
   "metadata": {},
   "source": [
    "# Example 9"
   ]
  },
  {
   "cell_type": "code",
   "execution_count": 16,
   "id": "b267d16b",
   "metadata": {},
   "outputs": [],
   "source": [
    "lst = ['data','science','artificial', 'intelligence']\n",
    "dct = {'data': 5, 'science': 3, 'machine': 1, 'learning': 8}"
   ]
  },
  {
   "cell_type": "markdown",
   "id": "7df06b33",
   "metadata": {},
   "source": [
    "We want to create a new dictionary using the list and dictionary defined above. The keys of the new dictionary will be the elements in the list so we will iterate over the elements in list. If the element is also in the dictionary, the value will be the values of that key in the dictionary. Otherwise, the value will be the length of the key."
   ]
  },
  {
   "cell_type": "code",
   "execution_count": 17,
   "id": "c5b689dd",
   "metadata": {},
   "outputs": [
    {
     "data": {
      "text/plain": [
       "{'data': 5, 'science': 3, 'artificial': 10, 'intelligence': 12}"
      ]
     },
     "execution_count": 17,
     "metadata": {},
     "output_type": "execute_result"
    }
   ],
   "source": [
    "{value:dct[value] if value in dct else len(value) for value in lst}"
   ]
  },
  {
   "cell_type": "markdown",
   "id": "c12aeacb",
   "metadata": {},
   "source": [
    "# Example 10"
   ]
  },
  {
   "cell_type": "code",
   "execution_count": 18,
   "id": "15f29efc",
   "metadata": {},
   "outputs": [],
   "source": [
    "a = [1,2,3,4]\n",
    "b = [5,6,7]"
   ]
  },
  {
   "cell_type": "code",
   "execution_count": 19,
   "id": "132c0a1b",
   "metadata": {},
   "outputs": [
    {
     "data": {
      "text/plain": [
       "{(1, 5): 5,\n",
       " (1, 6): 6,\n",
       " (1, 7): 7,\n",
       " (2, 5): 10,\n",
       " (2, 6): 12,\n",
       " (2, 7): 14,\n",
       " (3, 5): 15,\n",
       " (3, 6): 18,\n",
       " (3, 7): 21,\n",
       " (4, 5): 20,\n",
       " (4, 6): 24,\n",
       " (4, 7): 28}"
      ]
     },
     "execution_count": 19,
     "metadata": {},
     "output_type": "execute_result"
    }
   ],
   "source": [
    "{(i,j):i*j for i in a for j in b}"
   ]
  }
 ],
 "metadata": {
  "kernelspec": {
   "display_name": "Python 3 (ipykernel)",
   "language": "python",
   "name": "python3"
  },
  "language_info": {
   "codemirror_mode": {
    "name": "ipython",
    "version": 3
   },
   "file_extension": ".py",
   "mimetype": "text/x-python",
   "name": "python",
   "nbconvert_exporter": "python",
   "pygments_lexer": "ipython3",
   "version": "3.10.0"
  }
 },
 "nbformat": 4,
 "nbformat_minor": 5
}
