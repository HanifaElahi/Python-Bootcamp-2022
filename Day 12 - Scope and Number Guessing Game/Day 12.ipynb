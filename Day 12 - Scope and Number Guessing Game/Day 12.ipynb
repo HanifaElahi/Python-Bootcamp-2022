{
 "cells": [
  {
   "cell_type": "code",
   "execution_count": 1,
   "id": "a14f8d8b",
   "metadata": {},
   "outputs": [],
   "source": [
    "enemies = 1"
   ]
  },
  {
   "cell_type": "code",
   "execution_count": 2,
   "id": "bdb76081",
   "metadata": {},
   "outputs": [],
   "source": [
    "def increase_enemies():\n",
    "    enemies = 2\n",
    "    print(f\"enemies inside function: {enemies}\")"
   ]
  },
  {
   "cell_type": "code",
   "execution_count": 3,
   "id": "d2046271",
   "metadata": {},
   "outputs": [
    {
     "name": "stdout",
     "output_type": "stream",
     "text": [
      "enemies inside function: 2\n"
     ]
    }
   ],
   "source": [
    "increase_enemies()"
   ]
  },
  {
   "cell_type": "code",
   "execution_count": 4,
   "id": "90f2dc04",
   "metadata": {},
   "outputs": [
    {
     "name": "stdout",
     "output_type": "stream",
     "text": [
      "enemies outside function: 1\n"
     ]
    }
   ],
   "source": [
    "print(f\"enemies outside function: {enemies}\")"
   ]
  },
  {
   "cell_type": "markdown",
   "id": "40538adf",
   "metadata": {},
   "source": [
    "# Local Scope exists within Function"
   ]
  },
  {
   "cell_type": "code",
   "execution_count": 5,
   "id": "4a59a794",
   "metadata": {},
   "outputs": [],
   "source": [
    "def drink_potion():\n",
    "    potion_strength = 2\n",
    "    print(potion_strength)"
   ]
  },
  {
   "cell_type": "code",
   "execution_count": 6,
   "id": "69e83ace",
   "metadata": {},
   "outputs": [
    {
     "name": "stdout",
     "output_type": "stream",
     "text": [
      "2\n"
     ]
    }
   ],
   "source": [
    "drink_potion()"
   ]
  },
  {
   "cell_type": "code",
   "execution_count": 7,
   "id": "5e9e67ad",
   "metadata": {},
   "outputs": [
    {
     "ename": "NameError",
     "evalue": "name 'potion_strength' is not defined",
     "output_type": "error",
     "traceback": [
      "\u001b[1;31m---------------------------------------------------------------------------\u001b[0m",
      "\u001b[1;31mNameError\u001b[0m                                 Traceback (most recent call last)",
      "Input \u001b[1;32mIn [7]\u001b[0m, in \u001b[0;36m<cell line: 1>\u001b[1;34m()\u001b[0m\n\u001b[1;32m----> 1\u001b[0m \u001b[38;5;28mprint\u001b[39m(\u001b[43mpotion_strength\u001b[49m)\n",
      "\u001b[1;31mNameError\u001b[0m: name 'potion_strength' is not defined"
     ]
    }
   ],
   "source": [
    "print(potion_strength)"
   ]
  },
  {
   "cell_type": "markdown",
   "id": "d7561155",
   "metadata": {},
   "source": [
    "# Global Scope can be excessible anywhere"
   ]
  },
  {
   "cell_type": "code",
   "execution_count": 8,
   "id": "d9988537",
   "metadata": {},
   "outputs": [],
   "source": [
    "# Global Scope\n",
    "player_health = 10"
   ]
  },
  {
   "cell_type": "code",
   "execution_count": 9,
   "id": "491b42cd",
   "metadata": {},
   "outputs": [],
   "source": [
    "def game():\n",
    "    def drink_potion():\n",
    "        potion_strength = 2\n",
    "        print(player_health)\n",
    "    drink_potion()"
   ]
  },
  {
   "cell_type": "code",
   "execution_count": 10,
   "id": "025f59d6",
   "metadata": {},
   "outputs": [
    {
     "name": "stdout",
     "output_type": "stream",
     "text": [
      "10\n"
     ]
    }
   ],
   "source": [
    "print(player_health)"
   ]
  },
  {
   "cell_type": "markdown",
   "id": "c652f46e",
   "metadata": {},
   "source": [
    "# There is no Block Scope in Python"
   ]
  },
  {
   "cell_type": "markdown",
   "id": "c4350a98",
   "metadata": {},
   "source": [
    "**This simple means that if you create a variable inside a function then that variable is going to have a local scope but if u create a variable inside if statement or for loop or else then it won't have such local scope**"
   ]
  },
  {
   "cell_type": "code",
   "execution_count": 11,
   "id": "848d1220",
   "metadata": {},
   "outputs": [],
   "source": [
    "game_level = 3"
   ]
  },
  {
   "cell_type": "code",
   "execution_count": 12,
   "id": "78fe2ec9",
   "metadata": {},
   "outputs": [],
   "source": [
    "enemies = [\"Skeleton\", \"Zombie\", \"Alien\"]\n",
    "if game_level < 5:\n",
    "    new_enemy = enemies[0]"
   ]
  },
  {
   "cell_type": "code",
   "execution_count": 13,
   "id": "d707f1e4",
   "metadata": {},
   "outputs": [
    {
     "name": "stdout",
     "output_type": "stream",
     "text": [
      "Skeleton\n"
     ]
    }
   ],
   "source": [
    "print(new_enemy)"
   ]
  },
  {
   "cell_type": "markdown",
   "id": "a2947518",
   "metadata": {},
   "source": [
    "# Modifying a Global Variable"
   ]
  },
  {
   "cell_type": "code",
   "execution_count": 14,
   "id": "22c7cb38",
   "metadata": {},
   "outputs": [],
   "source": [
    "enemies = 1"
   ]
  },
  {
   "cell_type": "code",
   "execution_count": 15,
   "id": "c0b3515c",
   "metadata": {},
   "outputs": [],
   "source": [
    "def increase_enemies():\n",
    "    global enemies\n",
    "    enemies = 2\n",
    "    print(f\"enemies inside function: {enemies}\")"
   ]
  },
  {
   "cell_type": "code",
   "execution_count": 16,
   "id": "c0db1fe4",
   "metadata": {},
   "outputs": [
    {
     "name": "stdout",
     "output_type": "stream",
     "text": [
      "enemies inside function: 2\n"
     ]
    }
   ],
   "source": [
    "increase_enemies()"
   ]
  },
  {
   "cell_type": "code",
   "execution_count": 17,
   "id": "3a13c724",
   "metadata": {},
   "outputs": [
    {
     "name": "stdout",
     "output_type": "stream",
     "text": [
      "enemies outside function: 2\n"
     ]
    }
   ],
   "source": [
    "print(f\"enemies outside function: {enemies}\")"
   ]
  },
  {
   "cell_type": "markdown",
   "id": "4a324def",
   "metadata": {},
   "source": [
    "# Preferred Method to Modify Global Scope"
   ]
  },
  {
   "cell_type": "code",
   "execution_count": 18,
   "id": "845a7d46",
   "metadata": {},
   "outputs": [],
   "source": [
    "enemies = 1"
   ]
  },
  {
   "cell_type": "code",
   "execution_count": 19,
   "id": "1ccdb2ae",
   "metadata": {},
   "outputs": [],
   "source": [
    "def increase_enemies():\n",
    "    print(f\"enemies inside function: {enemies}\")\n",
    "    return enemies + 1"
   ]
  },
  {
   "cell_type": "code",
   "execution_count": 20,
   "id": "1a7135a6",
   "metadata": {},
   "outputs": [
    {
     "name": "stdout",
     "output_type": "stream",
     "text": [
      "enemies inside function: 1\n",
      "enemies outside function: 2\n"
     ]
    }
   ],
   "source": [
    "enemies = increase_enemies()\n",
    "print(f\"enemies outside function: {enemies}\")"
   ]
  },
  {
   "cell_type": "markdown",
   "id": "8f7fbb84",
   "metadata": {},
   "source": [
    "# Global Constants"
   ]
  },
  {
   "cell_type": "code",
   "execution_count": 21,
   "id": "f23e6c52",
   "metadata": {},
   "outputs": [],
   "source": [
    "PI = 3.14159\n",
    "URL = \"https://www.google.com\"\n",
    "TWITTER_HANDLE = \"@yu_angela\""
   ]
  }
 ],
 "metadata": {
  "kernelspec": {
   "display_name": "Python 3 (ipykernel)",
   "language": "python",
   "name": "python3"
  },
  "language_info": {
   "codemirror_mode": {
    "name": "ipython",
    "version": 3
   },
   "file_extension": ".py",
   "mimetype": "text/x-python",
   "name": "python",
   "nbconvert_exporter": "python",
   "pygments_lexer": "ipython3",
   "version": "3.10.0"
  }
 },
 "nbformat": 4,
 "nbformat_minor": 5
}
